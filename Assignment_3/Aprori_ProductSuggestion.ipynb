{
 "cells": [
  {
   "cell_type": "markdown",
   "metadata": {},
   "source": [
    "## Assignemnt No 3: Apriori Algorithm"
   ]
  },
  {
   "cell_type": "code",
   "execution_count": 1,
   "metadata": {},
   "outputs": [],
   "source": [
    "import numpy as np\n",
    "import matplotlib.pyplot as plt\n",
    "import pandas as pd\n",
    "from apyori import apriori"
   ]
  },
  {
   "cell_type": "markdown",
   "metadata": {},
   "source": [
    "### Read the dataset"
   ]
  },
  {
   "cell_type": "code",
   "execution_count": 2,
   "metadata": {},
   "outputs": [
    {
     "name": "stdout",
     "output_type": "stream",
     "text": [
      "7501\n"
     ]
    }
   ],
   "source": [
    "store_data = pd.read_csv('E:/Engineering/sem VII/LP2/New folder/DMW/Assignment_3/store_data.csv',header = None);\n",
    "num_records = len(store_data)\n",
    "print(num_records)"
   ]
  },
  {
   "cell_type": "markdown",
   "metadata": {},
   "source": [
    "### Converting data into List"
   ]
  },
  {
   "cell_type": "code",
   "execution_count": 3,
   "metadata": {},
   "outputs": [],
   "source": [
    "records = []\n",
    "for i in range(0,num_records):\n",
    "    \n",
    "    records.append([str(store_data.values[i,j]) for j in range(0,20)])"
   ]
  },
  {
   "cell_type": "markdown",
   "metadata": {},
   "source": [
    "### Defining Association Rules"
   ]
  },
  {
   "cell_type": "code",
   "execution_count": 4,
   "metadata": {},
   "outputs": [],
   "source": [
    "association_rules = apriori(records, min_support = 0.0053, min_confidence = 0.20, min_lift = 3, min_length = 2)\n",
    "association_results = list(association_rules)"
   ]
  },
  {
   "cell_type": "code",
   "execution_count": 5,
   "metadata": {},
   "outputs": [
    {
     "name": "stdout",
     "output_type": "stream",
     "text": [
      "32\n"
     ]
    }
   ],
   "source": [
    "print(len(association_results))"
   ]
  },
  {
   "cell_type": "markdown",
   "metadata": {},
   "source": [
    "### Displaying results"
   ]
  },
  {
   "cell_type": "code",
   "execution_count": 6,
   "metadata": {},
   "outputs": [
    {
     "name": "stdout",
     "output_type": "stream",
     "text": [
      "RelationRecord(items=frozenset({'mushroom cream sauce', 'escalope'}), support=0.005732568990801226, ordered_statistics=[OrderedStatistic(items_base=frozenset({'mushroom cream sauce'}), items_add=frozenset({'escalope'}), confidence=0.3006993006993007, lift=3.790832696715049)])\n"
     ]
    }
   ],
   "source": [
    "print(association_results[0])"
   ]
  },
  {
   "cell_type": "code",
   "execution_count": 7,
   "metadata": {},
   "outputs": [],
   "source": [
    "results = []\n",
    "for item in association_results:\n",
    "    pair = item[0]\n",
    "    items = [x for x in pair]\n",
    "    \n",
    "    value0 = str(items[0]) #Item_1\n",
    "    value1 = str(items[1]) #Item_2\n",
    "    value2 = str(item[1])[:7] #Support\n",
    "    value3 = str(item[2][0][2])[:7] #Confidence\n",
    "    value4 = str(item[2][0][3])[:7] #Lift\n",
    "    \n",
    "    rows = (value0, value1, value2, value3, value4)\n",
    "    \n",
    "    results.append(rows)\n",
    "    \n",
    "    Label = ['Item_1', 'Item_2', 'Support', 'Confidence', 'Lift']\n",
    "    \n",
    "    store_suggestion = pd.DataFrame.from_records(results,columns = Label)"
   ]
  },
  {
   "cell_type": "code",
   "execution_count": 8,
   "metadata": {},
   "outputs": [
    {
     "name": "stdout",
     "output_type": "stream",
     "text": [
      "                  Item_1             Item_2  Support Confidence     Lift\n",
      "0   mushroom cream sauce           escalope  0.00573    0.30069  3.79083\n",
      "1                  pasta           escalope  0.00586    0.37288  4.70081\n",
      "2          herb & pepper        ground beef  0.01599    0.32345  3.29199\n",
      "3           tomato sauce        ground beef  0.00533    0.37735  3.84065\n",
      "4      whole wheat pasta          olive oil  0.00799    0.27149  4.12241\n",
      "5              chocolate  frozen vegetables  0.00533    0.23255  3.25451\n",
      "6   mushroom cream sauce                nan  0.00573    0.30069  3.79083\n",
      "7                  pasta                nan  0.00586    0.37288  4.70081\n",
      "8              spaghetti  frozen vegetables  0.00866    0.31100  3.16532\n",
      "9      frozen vegetables      mineral water  0.00719    0.30508  3.20061\n",
      "10             spaghetti  frozen vegetables  0.00573    0.20574  3.12402\n",
      "11             spaghetti  frozen vegetables  0.00599    0.21531  3.01314\n",
      "12              tomatoes          spaghetti  0.00666    0.23923  3.49804\n",
      "13         grated cheese        ground beef  0.00533    0.32258  3.28314\n",
      "14         herb & pepper      mineral water  0.00666    0.39062  3.97568\n",
      "15                   nan      herb & pepper  0.01599    0.32345  3.29199\n",
      "16             spaghetti      herb & pepper  0.00639    0.39344  4.00435\n",
      "17                   nan       tomato sauce  0.00533    0.37735  3.84065\n",
      "18             spaghetti        ground beef  0.00599    0.52325  3.00531\n",
      "19                  milk          spaghetti  0.00719    0.20300  3.08250\n",
      "20                   nan  whole wheat pasta  0.00799    0.27149  4.13077\n",
      "21                   nan          chocolate  0.00533    0.23255  3.26059\n",
      "22                   nan          spaghetti  0.00866    0.31100  3.16532\n",
      "23                   nan  frozen vegetables  0.00719    0.30508  3.20061\n",
      "24                   nan          spaghetti  0.00573    0.20574  3.13036\n",
      "25                   nan          spaghetti  0.00599    0.21531  3.01878\n",
      "26                   nan           tomatoes  0.00666    0.23923  3.49804\n",
      "27                   nan      grated cheese  0.00533    0.32258  3.28314\n",
      "28                   nan      herb & pepper  0.00666    0.39062  3.97568\n",
      "29                   nan          spaghetti  0.00639    0.39344  4.00435\n",
      "30                   nan          spaghetti  0.00599    0.52325  3.00531\n",
      "31                  milk                nan  0.00719    0.20300  3.08876\n"
     ]
    }
   ],
   "source": [
    "print(store_suggestion)"
   ]
  }
 ],
 "metadata": {
  "kernelspec": {
   "display_name": "Python 3",
   "language": "python",
   "name": "python3"
  },
  "language_info": {
   "codemirror_mode": {
    "name": "ipython",
    "version": 3
   },
   "file_extension": ".py",
   "mimetype": "text/x-python",
   "name": "python",
   "nbconvert_exporter": "python",
   "pygments_lexer": "ipython3",
   "version": "3.8.0"
  }
 },
 "nbformat": 4,
 "nbformat_minor": 4
}
